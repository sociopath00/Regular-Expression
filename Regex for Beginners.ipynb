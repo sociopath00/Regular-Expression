{
 "cells": [
  {
   "cell_type": "markdown",
   "metadata": {},
   "source": [
    "# RegEx Tutorial"
   ]
  },
  {
   "cell_type": "markdown",
   "metadata": {},
   "source": [
    "A **RegEx** is a string of text that allows you to create patterns that help match, locate, and manage text.\n",
    "\n",
    "Regular expressions are essentially a tiny, highly specialized programming language embedded inside Python and made available through the `re` module"
   ]
  },
  {
   "cell_type": "markdown",
   "metadata": {},
   "source": [
    "## Matching Characters\n",
    "\n",
    "Though in RegEx, most of the characters matched as it is eg. the regular expression `test` will match the string `test` exactly, there are some special case of characters know as *Metacharacters* which has different meaning associated with it.\n",
    "\n",
    "First we will see how to match simple chars in the string."
   ]
  },
  {
   "cell_type": "code",
   "execution_count": 2,
   "metadata": {},
   "outputs": [],
   "source": [
    "# import re module\n",
    "import re"
   ]
  },
  {
   "cell_type": "markdown",
   "metadata": {},
   "source": [
    "**CASE 1:**\n",
    "\n",
    "We will try to find all the strings which has a word `cat` in it."
   ]
  },
  {
   "cell_type": "code",
   "execution_count": 12,
   "metadata": {},
   "outputs": [
    {
     "name": "stdout",
     "output_type": "stream",
     "text": [
      "Where's my cat\n",
      "It could be catalyst\n"
     ]
    }
   ],
   "source": [
    "# Let's define a list of strings\n",
    "words = [\"Hey I'm there\", \"Where's my cat\", \"The game of Cat and Mouse\", \"It could be catalyst\"]\n",
    "\n",
    "# define the pattern to match\n",
    "pattern = 'cat'\n",
    "for word in words:\n",
    "    match = re.search(pattern, word)\n",
    "    if match:\n",
    "        print(word)"
   ]
  },
  {
   "cell_type": "markdown",
   "metadata": {},
   "source": [
    "#### Observations from above example:\n",
    "\n",
    "1. It correctly ignores the 1st string which does not contain the word `cat`\n",
    "2. It idnetifies the word cat in 2nd string\n",
    "3. It is case-sensative so it ignores the word `Cat` from 3rd string.\n",
    "4. It prints 4th string which it not supposed to print. "
   ]
  },
  {
   "cell_type": "markdown",
   "metadata": {},
   "source": [
    "So we found 2 issues in above approach.\n",
    "\n",
    "1. It is case-sensative \n",
    "2. It will return any string even if string `cat` is part of other word eg. `catalyst` in 4th string\n",
    "\n",
    "We can make it case insensative using `re.IGNORECASE` and 2nd one can be handled using *Word Boundary* approach which we will cover later in this Tutorial.\n",
    "\n",
    "\n",
    "**CASE 2:**\n",
    "Let's have a look how can we make it case-insesative."
   ]
  },
  {
   "cell_type": "code",
   "execution_count": 19,
   "metadata": {},
   "outputs": [
    {
     "name": "stdout",
     "output_type": "stream",
     "text": [
      "Where's my cat\n",
      "The game of Cat and Mouse\n"
     ]
    }
   ],
   "source": [
    "words = [\"Hey I'm there\", \"Where's my cat\", \"The game of Cat and Mouse\"]\n",
    "pattern = 'cat'\n",
    "\n",
    "for word in words:\n",
    "    match = re.search(pattern, word, re.IGNORECASE)\n",
    "    if match:\n",
    "        print(word)"
   ]
  },
  {
   "cell_type": "markdown",
   "metadata": {},
   "source": [
    "##### Now we'll see *Metacharacters* and their usage."
   ]
  },
  {
   "cell_type": "markdown",
   "metadata": {},
   "source": [
    "Here's the complete list of *Metacharacters* :\n",
    "\n",
    "`. ^ $ * + ? { } [ ] \\ | ( )`"
   ]
  },
  {
   "cell_type": "markdown",
   "metadata": {},
   "source": [
    "### 1.  Metacharacter:  `[ ]` \n",
    "`[` and `]` are used to match a character with specific character set."
   ]
  },
  {
   "cell_type": "markdown",
   "metadata": {},
   "source": [
    "**CASE 3:**"
   ]
  },
  {
   "cell_type": "markdown",
   "metadata": {},
   "source": [
    "Say we have to check if the 3 letter string contains word `at` in it at the end."
   ]
  },
  {
   "cell_type": "code",
   "execution_count": 17,
   "metadata": {},
   "outputs": [
    {
     "name": "stdout",
     "output_type": "stream",
     "text": [
      "cat\n",
      "Bat\n",
      "rat\n",
      "Fat\n"
     ]
    }
   ],
   "source": [
    "words = ['cat', 'wed', 'Bat', 'rat', 'ate', 'sit', 'Fat']\n",
    "pattern = r'[A-Za-z]at'\n",
    "\n",
    "for word in words:\n",
    "    match = re.search(pattern, word)\n",
    "    if match:\n",
    "        print(word)"
   ]
  },
  {
   "cell_type": "markdown",
   "metadata": {},
   "source": [
    "In above example we have passed 2 ranges in `[]`. First Uppercase A-Z and lowercase a-z\n",
    "\n",
    "In short it works as `OR` condition.\n",
    "It tries to find a character given in the range."
   ]
  },
  {
   "cell_type": "markdown",
   "metadata": {},
   "source": [
    "**CASE 4:**\n",
    "\n",
    "Let's take a similar example and we'll only fetch the words starting with `b` or `c` and followed by `at`."
   ]
  },
  {
   "cell_type": "code",
   "execution_count": 18,
   "metadata": {},
   "outputs": [
    {
     "name": "stdout",
     "output_type": "stream",
     "text": [
      "cat\n",
      "Bat\n"
     ]
    }
   ],
   "source": [
    "words = ['cat', 'wed', 'Bat', 'rat', 'ate', 'sit', 'Fat']\n",
    "pattern = r'[bc]at'\n",
    "\n",
    "for word in words:\n",
    "    match = re.search(pattern, word, re.IGNORECASE)   # ignoring the case\n",
    "    if match:\n",
    "        print(word)"
   ]
  },
  {
   "cell_type": "markdown",
   "metadata": {},
   "source": [
    "**CASE 5:**\n",
    "\n",
    "Now let's see how to compliment a set.\n",
    "\n",
    "We want to match all the strings finishing with `at` but not starting with `b` or `c`"
   ]
  },
  {
   "cell_type": "code",
   "execution_count": 22,
   "metadata": {},
   "outputs": [
    {
     "name": "stdout",
     "output_type": "stream",
     "text": [
      "rat\n",
      "Fat\n",
      "8at\n"
     ]
    }
   ],
   "source": [
    "words = ['cat', 'wed', 'Bat', 'rat', 'ate', 'sit', 'Fat', '8at']\n",
    "pattern = r'[^bc]at'\n",
    "\n",
    "for word in words:\n",
    "    match = re.search(pattern, word, re.IGNORECASE)   # ignoring the case\n",
    "    if match:\n",
    "        print(word)"
   ]
  },
  {
   "cell_type": "markdown",
   "metadata": {},
   "source": [
    "Simply adding `^` character at the start we can compliment the set. We'll see the usage of `^` outside the `[ ]` soon.\n",
    "\n",
    "Furthermore `^` has special meaning only at the start. If you enter it elsewhere it will work as a character"
   ]
  },
  {
   "cell_type": "markdown",
   "metadata": {},
   "source": [
    "**CASE 6:**\n",
    "\n",
    "We have to match if word ending with `at` and starting with `b` or `^`."
   ]
  },
  {
   "cell_type": "code",
   "execution_count": 25,
   "metadata": {},
   "outputs": [
    {
     "name": "stdout",
     "output_type": "stream",
     "text": [
      "Bat\n",
      "bat\n",
      "^at\n"
     ]
    }
   ],
   "source": [
    "words = ['cat', 'wed', 'Bat', 'bat', 'ate', 'sit', '^at', '8at']\n",
    "pattern = r'[b^]at'\n",
    "\n",
    "for word in words:\n",
    "    match = re.search(pattern, word, re.IGNORECASE)   # ignoring the case\n",
    "    if match:\n",
    "        print(word)"
   ]
  },
  {
   "cell_type": "markdown",
   "metadata": {},
   "source": [
    "### 2. Metacharacter:   `.`"
   ]
  },
  {
   "cell_type": "markdown",
   "metadata": {},
   "source": [
    "`.` is used to match anything except newline."
   ]
  },
  {
   "cell_type": "markdown",
   "metadata": {},
   "source": [
    "**CASE 7:**\n",
    "\n",
    "Finding the 3 letter pattern that starts with `a` followed by any character and ends with `e`\n",
    "\n",
    "*eg.  ate, ace, ave, save*  "
   ]
  },
  {
   "cell_type": "code",
   "execution_count": 33,
   "metadata": {},
   "outputs": [
    {
     "name": "stdout",
     "output_type": "stream",
     "text": [
      "aces\n",
      "A.e\n",
      "save\n"
     ]
    }
   ],
   "source": [
    "words = ['aces', 'weds', 'A.e', 'bat', 'eats', 'save', '^at', 'a\\nesim','a\\ns']   # `\\n` is newline in last 2 strings\n",
    "pattern = r'a.e'\n",
    "\n",
    "for word in words:\n",
    "    match = re.search(pattern, word, re.IGNORECASE)   # ignoring the case\n",
    "    if match:\n",
    "        print(word)"
   ]
  },
  {
   "cell_type": "markdown",
   "metadata": {},
   "source": [
    "We'll see more examples of it later in this tutorial. "
   ]
  },
  {
   "cell_type": "markdown",
   "metadata": {},
   "source": [
    "### 3. Metacharacter:  `*`\n",
    "\n",
    "`*` is used to match characters 0 or more times."
   ]
  },
  {
   "cell_type": "markdown",
   "metadata": {},
   "source": [
    "**CASE 8:**\n",
    "\n",
    "Find the decimal number `1.1` from the list of strings."
   ]
  },
  {
   "cell_type": "code",
   "execution_count": 34,
   "metadata": {},
   "outputs": [
    {
     "name": "stdout",
     "output_type": "stream",
     "text": [
      "1.1\n",
      "1.1000\n",
      "1.110\n",
      "1.10\n"
     ]
    }
   ],
   "source": [
    "words = ['1.1', '1.01', '1.1000', '0.1100', '1.110', '1.10']   \n",
    "pattern = r'1.10*'\n",
    "\n",
    "for word in words:\n",
    "    match = re.search(pattern, word)\n",
    "    if match:\n",
    "        print(word)"
   ]
  },
  {
   "cell_type": "markdown",
   "metadata": {},
   "source": [
    "The above example fails on 1.110. It checks for 0 or more `0`s in string after `1.1` as founds no zero which also a match.\n",
    "\n",
    "We can avoid it by telling it that `0` is the last character in the string and here comes `$` to help us"
   ]
  },
  {
   "cell_type": "markdown",
   "metadata": {},
   "source": [
    "### 4. Metacharacter: `$`\n",
    "\n",
    "`$` matches end of the line."
   ]
  },
  {
   "cell_type": "markdown",
   "metadata": {},
   "source": [
    "**CASE 9:**\n",
    "\n",
    "We'll use the same example as *CASE 8*"
   ]
  },
  {
   "cell_type": "code",
   "execution_count": 35,
   "metadata": {},
   "outputs": [
    {
     "name": "stdout",
     "output_type": "stream",
     "text": [
      "1.1\n",
      "1.1000\n",
      "1.10\n"
     ]
    }
   ],
   "source": [
    "words = ['1.1', '1.01', '1.1000', '0.1100', '1.110', '1.10']   \n",
    "pattern = r'1.10*$'\n",
    "\n",
    "for word in words:\n",
    "    match = re.search(pattern, word)\n",
    "    if match:\n",
    "        print(word)"
   ]
  },
  {
   "cell_type": "markdown",
   "metadata": {},
   "source": [
    "### 5. Metacharacter: `^`\n",
    "\n",
    "We have seen usage of `^` inside the `[ ]`. Now let's see how to use it outside it.\n",
    "\n",
    "`^` matches beginning of the line."
   ]
  },
  {
   "cell_type": "markdown",
   "metadata": {},
   "source": [
    "**CASE 10:**\n",
    "\n",
    "Let's find out all the words starting with `k`."
   ]
  },
  {
   "cell_type": "code",
   "execution_count": 38,
   "metadata": {},
   "outputs": [
    {
     "name": "stdout",
     "output_type": "stream",
     "text": [
      "kite\n",
      "KITTEN\n",
      "kane\n"
     ]
    }
   ],
   "source": [
    "words = ['cat', 'kite', 'KITTEN', 'cold', 'skin', 'kane']   \n",
    "pattern = r'^k'\n",
    "\n",
    "for word in words:\n",
    "    match = re.search(pattern, word, re.IGNORECASE)\n",
    "    if match:\n",
    "        print(word)"
   ]
  },
  {
   "cell_type": "markdown",
   "metadata": {},
   "source": [
    "### 6. Metacharacter: `|` \n",
    "\n",
    "\n",
    "`|` is used as `or` in regex."
   ]
  },
  {
   "cell_type": "markdown",
   "metadata": {},
   "source": [
    "**CASE 11:**\n",
    "\n",
    "Find out the sentences containing `TEA` or `COFFEE`."
   ]
  },
  {
   "cell_type": "code",
   "execution_count": 40,
   "metadata": {},
   "outputs": [
    {
     "name": "stdout",
     "output_type": "stream",
     "text": [
      "He likes coffee\n",
      "He neither like tea or coffee\n",
      "Green Tea is healthy\n"
     ]
    }
   ],
   "source": [
    "words = ['Cat drinks milk', 'He likes coffee', 'He neither like tea or coffee', 'She prefers cold drinks', 'Green Tea is healthy']   \n",
    "pattern = r'tea|coffee'\n",
    "\n",
    "for word in words:\n",
    "    match = re.search(pattern, word, re.IGNORECASE)\n",
    "    if match:\n",
    "        print(word)"
   ]
  },
  {
   "cell_type": "markdown",
   "metadata": {},
   "source": [
    "### 7. Metacharacter: `+`\n",
    "\n",
    "`+` matches 1 or more chracter."
   ]
  },
  {
   "cell_type": "markdown",
   "metadata": {},
   "source": [
    "**CASE 12:**\n",
    "\n",
    "Find out string that contains 1 or more `b`s between `a` and `c`.\n",
    "\n",
    "*eg.  abbbc, abc, aaabccc*"
   ]
  },
  {
   "cell_type": "code",
   "execution_count": 41,
   "metadata": {},
   "outputs": [
    {
     "name": "stdout",
     "output_type": "stream",
     "text": [
      "aaabc\n",
      "abc\n",
      "abccc\n",
      "aaabbbbbcc\n"
     ]
    }
   ],
   "source": [
    "words = ['aaabc', 'abc', 'abccc', 'acb', 'ac', 'aaabbbbbcc']\n",
    "pattern = r'ab+c'\n",
    "\n",
    "for word in words:\n",
    "    match = re.search(pattern, word, re.IGNORECASE)\n",
    "    if match:\n",
    "        print(word)"
   ]
  },
  {
   "cell_type": "markdown",
   "metadata": {},
   "source": [
    "### 8. Metacharacter: `?`\n",
    "\n",
    "`?` matches 0 or 1 character."
   ]
  },
  {
   "cell_type": "markdown",
   "metadata": {},
   "source": [
    "**CASE 13:**\n",
    "\n",
    "Find out strings containg 0 or 1 `b` at the end.\n",
    "\n",
    "*eg:  aaab, accc*"
   ]
  },
  {
   "cell_type": "code",
   "execution_count": 42,
   "metadata": {},
   "outputs": [
    {
     "name": "stdout",
     "output_type": "stream",
     "text": [
      "aaab\n",
      "ab\n"
     ]
    }
   ],
   "source": [
    "words = ['aaab', 'ab', 'abccc', 'acbbbb', 'ac']\n",
    "pattern = r'ab?$'\n",
    "\n",
    "for word in words:\n",
    "    match = re.search(pattern, word, re.IGNORECASE)\n",
    "    if match:\n",
    "        print(word)"
   ]
  },
  {
   "cell_type": "code",
   "execution_count": null,
   "metadata": {},
   "outputs": [],
   "source": []
  }
 ],
 "metadata": {
  "kernelspec": {
   "display_name": "Python 3",
   "language": "python",
   "name": "python3"
  },
  "language_info": {
   "codemirror_mode": {
    "name": "ipython",
    "version": 3
   },
   "file_extension": ".py",
   "mimetype": "text/x-python",
   "name": "python",
   "nbconvert_exporter": "python",
   "pygments_lexer": "ipython3",
   "version": "3.7.1"
  }
 },
 "nbformat": 4,
 "nbformat_minor": 2
}
